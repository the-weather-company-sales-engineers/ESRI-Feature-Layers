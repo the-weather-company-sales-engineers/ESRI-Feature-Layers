{
    "nbformat_minor": 1, 
    "cells": [
        {
            "source": "######JM Gawrych  11/30/2018 rev 3/11/2019\n#### Gets multiple Hail Vison geojson files from our featurizer catalog and combines them\n\n#####B Snyder 6/29/2019 Added to Watson Studio\n#!pip install arcgis #You must do this the first time you run the notebook!\n\nimport requests,json,datetime # need to install these libraries to run\nfrom arcgis.gis import GIS\nfrom arcgis import features\nfrom arcgis.features import FeatureLayerCollection\n\n##All TWC visual products have a product name and number\nprod_num=str(335) # Radar Derived 24-Hour HailVision. \nprod_name='MESHMax1440min' # Per TWC naming conventions\nAPIKEY='YOUR_TWC_KEY_HERE'  #Enter your API key \n\n\n########################PRODUCT INVENTORY CALL################################  \ndef InvCall():\n    base1 = 'https://api.weather.com/v2/tiler/info?products='+prod_num+':'+prod_name\n    base2 = '&apiKey='+APIKEY\n    url = base1 + base2 \n    APIcall = requests.get(url) #Our API Call     to grab the latest forecast\n    if APIcall.status_code == 200:  #if(APIcall.ok):\n        data = APIcall.json() \n        for x in range(0,1):\n            for y in range(0,1):\n                timestamp = data[\"layers\"][prod_num][prod_name][\"dimensions\"][x][\"t\"][y]\n            return timestamp\n\n##########################   API CALL   ###################################\ndef APIcall(timestamp,ts): # function for pulling data \n    count=0\n\n    num_layers = 6  #10\n    inc=12.7  \n    fc = {\n        \"type\": \"FeatureCollection\",\n        \"features\": []\n    }\n   \n    low_limit = 12.7   ##Thresholds are in mm, min is 5 mm (0.2\") up to 50 mm (~2\") \n    low_limitS = str(low_limit)\n    high_limit=low_limit+12.7\n    high_limitS = str(high_limit)      \n                 \n    base1 = 'https://api.weather.com/v2/featurizer/feature?product='+prod_num+':'+prod_name\n    base2 = '&t='+timestamp + '&apiKey='+APIKEY+'&geometryType=polygon'\n    \n    for x in range(0,num_layers):\n        \n        count=count+1\n        base3 = '&threshold='+low_limitS\n\n        url = base1 + base2 + base3  # make API URL   \n        print (url)\n        data = requests.get(url).json() #Our API Call\n        \n        for y in data['features']:           \n            f = {\"type\": \"Feature\", \"properties\": {}, \"geometry\": None}\n            \n            f['geometry'] = y['geometry']\n            #convert to inches\n            HailSizeIn= round(float(y['properties']['threshold'])*0.0394,1)\n            f['properties']['HailSize'] = HailSizeIn  # y['properties']['threshold']\n            f['properties']['Date'] = ts\n            fc['features'].append(f)           \n        \n          \n        low_limit=low_limit+inc\n        low_limitS=str(low_limit)                  \n        high_limit=high_limit+inc\n        high_limitS=str(high_limit) \n    \n    with open(\"HailVision_\"+ts+\".geojson\", \"w\") as outfile:\n        json.dump(fc, outfile)            \n    with open(\"HailVision.geojson\", \"w\") as outfile:\n        json.dump(fc, outfile)       \n\n################################################################################\ntimestamp = InvCall()  ## Grab time stamp\n\nnow=datetime.datetime.utcnow()\nyear=str(now.year)\nmonth=str('{:02d}'.format(now.month))\nday=str('{:02d}'.format(now.day))\nhour=str('{:02d}'.format(now.hour))\nts=year+month+day+hour+'00'\n\nAPIcall(timestamp,ts)\n\n################################################################################\n##  ADD CONTENT TO ARCGIS  \n# Connect to the GIS Using Your Credentials\nportalURL = \"http://ibmmain.maps.arcgis.com\"\nuserID = \"YOUR_ESRI_USERNAME\"\npassword = \"YOUR_ESRI_PASSWORD\"\ngis = GIS(portalURL, userID, password)\n\n#Update each piece of content\nexisting_ID = '465ef129d4314343864b73f49d48c83e'  # Map ID\nwx_item = gis.content.get(existing_ID)\ncollection = features.FeatureLayerCollection.fromitem(wx_item)\ncollection.manager.overwrite('HailVision.geojson')  \nprint (\"Updating Layer\")\n", 
            "cell_type": "code", 
            "metadata": {}, 
            "outputs": [
                {
                    "output_type": "error", 
                    "evalue": "Can't convert 'NoneType' object to str implicitly", 
                    "traceback": [
                        "\u001b[0;31m---------------------------------------------------------------------------\u001b[0m", 
                        "\u001b[0;31mTypeError\u001b[0m                                 Traceback (most recent call last)", 
                        "\u001b[0;32m<ipython-input-1-674212d25ad1>\u001b[0m in \u001b[0;36m<module>\u001b[0;34m()\u001b[0m\n\u001b[1;32m     88\u001b[0m \u001b[0mts\u001b[0m\u001b[0;34m=\u001b[0m\u001b[0myear\u001b[0m\u001b[0;34m+\u001b[0m\u001b[0mmonth\u001b[0m\u001b[0;34m+\u001b[0m\u001b[0mday\u001b[0m\u001b[0;34m+\u001b[0m\u001b[0mhour\u001b[0m\u001b[0;34m+\u001b[0m\u001b[0;34m'00'\u001b[0m\u001b[0;34m\u001b[0m\u001b[0m\n\u001b[1;32m     89\u001b[0m \u001b[0;34m\u001b[0m\u001b[0m\n\u001b[0;32m---> 90\u001b[0;31m \u001b[0mAPIcall\u001b[0m\u001b[0;34m(\u001b[0m\u001b[0mtimestamp\u001b[0m\u001b[0;34m,\u001b[0m\u001b[0mts\u001b[0m\u001b[0;34m)\u001b[0m\u001b[0;34m\u001b[0m\u001b[0m\n\u001b[0m\u001b[1;32m     91\u001b[0m \u001b[0;34m\u001b[0m\u001b[0m\n\u001b[1;32m     92\u001b[0m \u001b[0;31m################################################################################\u001b[0m\u001b[0;34m\u001b[0m\u001b[0;34m\u001b[0m\u001b[0m\n", 
                        "\u001b[0;32m<ipython-input-1-674212d25ad1>\u001b[0m in \u001b[0;36mAPIcall\u001b[0;34m(timestamp, ts)\u001b[0m\n\u001b[1;32m     46\u001b[0m \u001b[0;34m\u001b[0m\u001b[0m\n\u001b[1;32m     47\u001b[0m     \u001b[0mbase1\u001b[0m \u001b[0;34m=\u001b[0m \u001b[0;34m'https://api.weather.com/v2/featurizer/feature?product='\u001b[0m\u001b[0;34m+\u001b[0m\u001b[0mprod_num\u001b[0m\u001b[0;34m+\u001b[0m\u001b[0;34m':'\u001b[0m\u001b[0;34m+\u001b[0m\u001b[0mprod_name\u001b[0m\u001b[0;34m\u001b[0m\u001b[0m\n\u001b[0;32m---> 48\u001b[0;31m     \u001b[0mbase2\u001b[0m \u001b[0;34m=\u001b[0m \u001b[0;34m'&t='\u001b[0m\u001b[0;34m+\u001b[0m\u001b[0mtimestamp\u001b[0m \u001b[0;34m+\u001b[0m \u001b[0;34m'&apiKey='\u001b[0m\u001b[0;34m+\u001b[0m\u001b[0mAPIKEY\u001b[0m\u001b[0;34m+\u001b[0m\u001b[0;34m'&geometryType=polygon'\u001b[0m\u001b[0;34m\u001b[0m\u001b[0m\n\u001b[0m\u001b[1;32m     49\u001b[0m \u001b[0;34m\u001b[0m\u001b[0m\n\u001b[1;32m     50\u001b[0m     \u001b[0;32mfor\u001b[0m \u001b[0mx\u001b[0m \u001b[0;32min\u001b[0m \u001b[0mrange\u001b[0m\u001b[0;34m(\u001b[0m\u001b[0;36m0\u001b[0m\u001b[0;34m,\u001b[0m\u001b[0mnum_layers\u001b[0m\u001b[0;34m)\u001b[0m\u001b[0;34m:\u001b[0m\u001b[0;34m\u001b[0m\u001b[0m\n", 
                        "\u001b[0;31mTypeError\u001b[0m: Can't convert 'NoneType' object to str implicitly"
                    ], 
                    "ename": "TypeError"
                }
            ], 
            "execution_count": 1
        }, 
        {
            "source": "", 
            "cell_type": "code", 
            "metadata": {}, 
            "outputs": [], 
            "execution_count": null
        }
    ], 
    "metadata": {
        "kernelspec": {
            "display_name": "Python 3.5", 
            "name": "python3", 
            "language": "python"
        }, 
        "language_info": {
            "mimetype": "text/x-python", 
            "nbconvert_exporter": "python", 
            "version": "3.5.5", 
            "name": "python", 
            "file_extension": ".py", 
            "pygments_lexer": "ipython3", 
            "codemirror_mode": {
                "version": 3, 
                "name": "ipython"
            }
        }
    }, 
    "nbformat": 4
}